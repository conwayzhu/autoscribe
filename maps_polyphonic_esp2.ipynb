{
 "cells": [
  {
   "cell_type": "code",
   "execution_count": null,
   "metadata": {
    "collapsed": true
   },
   "outputs": [],
   "source": [
    "# first test for polyphonic music\n",
    "import librosa\n",
    "import math\n",
    "import numpy as np\n",
    "import os\n",
    "from sporco.admm import cbpdn\n",
    "import sporco.metric as sm\n",
    "import pickle \n",
    "import matplotlib.pyplot as plt\n",
    "%matplotlib inline\n",
    "from scipy.signal import argrelextrema\n",
    "import scipy.io.wavfile\n",
    "sr = 11025\n",
    "window_size = 0.050"
   ]
  },
  {
   "cell_type": "code",
   "execution_count": null,
   "metadata": {
    "collapsed": true
   },
   "outputs": [],
   "source": [
    "# load the dictionary\n",
    "D = []\n",
    "directory = './maps/notes/'\n",
    "\n",
    "for i in range(21,109):\n",
    "    fname1 = 'MAPS_ISOL_NO_F_S0_M' + str(i) + '_SptkBGCl.wav'\n",
    "    fname2 = 'MAPS_ISOL_NO_F_S1_M' + str(i) + '_SptkBGCl.wav'\n",
    "    \n",
    "    try:\n",
    "        s = librosa.load(directory + fname1, sr=11025,offset=0.7,duration=1.0)[0]\n",
    "    except:\n",
    "        s = librosa.load(directory + fname2, sr=11025,offset=0.7,duration=1.0)[0]\n",
    "    # normalize dictionary elements\n",
    "    D.append(s/np.amax(s))\n",
    "    \n",
    "D = np.asarray(D)\n",
    "D = D.T\n",
    "\n",
    "with open('mapsdict.pkl','wb') as fid:\n",
    "     pickle.dump(D,fid)"
   ]
  },
  {
   "cell_type": "code",
   "execution_count": null,
   "metadata": {
    "collapsed": false
   },
   "outputs": [],
   "source": [
    "#solve the CBPDN problem\n",
    "with open('mapsdict.pkl','rb') as fid:\n",
    "    D = pickle.load(fid)\n",
    "print(D.shape)\n",
    "lmbda = 0.005\n",
    "# 1 temporal dimension\n",
    "dimN = 1\n",
    "\n",
    "opt = cbpdn.ConvBPDN.Options({'Verbose' : True, 'MaxMainIter' : 500,\n",
    "                    'HighMemSolve' : True, 'LinSolveCheck' : True,\n",
    "                    'RelStopTol' : 1e-3, 'AuxVarObj' : False})\n",
    "\n",
    "songdir = \"./maps/songs/\"\n",
    "songname = \"MAPS_MUS-alb_esp2_SptkBGCl.wav\"\n",
    "song, sr = librosa.load(songdir+songname,sr=sr,duration=30.0)\n",
    "\n",
    "b = cbpdn.ConvBPDN(D, song, lmbda, opt,dimN=dimN)\n",
    "X = b.solve()\n",
    "X = X[:,0,0,:]\n",
    "with open('maps_results_esp2.pkl', 'wb') as fid:\n",
    "    pickle.dump(X, fid)"
   ]
  },
  {
   "cell_type": "code",
   "execution_count": null,
   "metadata": {
    "collapsed": false
   },
   "outputs": [],
   "source": [
    "# load the GT\n",
    "songdir = \"./maps/songs/\"\n",
    "songname = \"MAPS_MUS-alb_esp2_SptkBGCl.wav\"\n",
    "song, sr = librosa.load(songdir+songname,sr=sr,duration=5.0)\n",
    "\n",
    "f = open(songdir + 'MAPS_MUS-alb_esp2_SptkBGCl.txt', 'rb')\n",
    "lines = f.readlines()[1:]\n",
    "GT = {}\n",
    "for row in lines:\n",
    "    row = row.decode().strip('\\r\\n')\n",
    "    row = row.split('\\t')\n",
    "    if row[2] in GT:\n",
    "        GT[row[2]].append([row[0], row[1]])\n",
    "    else:\n",
    "        GT[row[2]] = [[row[0], row[1]]]"
   ]
  },
  {
   "cell_type": "code",
   "execution_count": null,
   "metadata": {
    "collapsed": false
   },
   "outputs": [],
   "source": [
    "with open('maps_results_esp2.pkl','rb') as Y:\n",
    "    Y = pickle.load(Y)\n",
    "    \n",
    "duration = song.shape[0]/sr\n",
    "\n",
    "lmaxes = np.asarray([])\n",
    "for row in Y:\n",
    "    relex = argrelextrema(row,np.greater)[0]\n",
    "    lmaxes = np.concatenate((lmaxes,row[relex]))\n",
    "\n",
    "p75,p25 = np.percentile(lmaxes, [75,25])\n",
    "# try different values for iqr\n",
    "threshold = p75 + 12*(p75-p25)\n",
    "# lmaxes = np.sort(lmaxes)\n",
    "# l = lmaxes.shape[0]\n",
    "# threshold = lmaxes[95*int(l/100)]\n",
    "# need to select proper threshold value\n",
    "print('threshold is', threshold)\n",
    "# new array of only below threshold\n",
    "lowvals = Y < threshold\n",
    "Y[lowvals] = 0\n",
    "\n",
    "#duration of each window\n",
    "window_size = 0.05\n",
    "start = 0\n",
    "l = int(sr*window_size)\n",
    "end = l\n",
    "window = 0\n",
    "print('finding maxima')\n",
    "# 2D array that represents onsets\n",
    "onsets = np.zeros((88,int(duration/0.05)))\n",
    "# keep track of highest note, low (for plotting purposes)\n",
    "highnote = 0\n",
    "lownote = 100\n",
    "total=0\n",
    "correct=0\n",
    "for i in range(int(duration/window_size)):\n",
    "    row = Y[start:end,:]\n",
    "    #print(row.shape)\n",
    "    sumrow = np.sum(row,axis=0)\n",
    "    relex = argrelextrema(sumrow,np.greater)[0]\n",
    "    if(len(relex) != 0):\n",
    "        # time index that the note occurs\n",
    "        high = np.amax(relex)\n",
    "        low = np.amin(relex)\n",
    "        if high > highnote:\n",
    "            highnote = high\n",
    "        if low < lownote:\n",
    "            lownote = low\n",
    "        tindex = window\n",
    "        onsets[relex,tindex] = 1\n",
    "        t = window_size * window\n",
    "        for note in relex:\n",
    "            note += 21\n",
    "            total += 1\n",
    "            if str(note) in GT:\n",
    "                time_ranges = GT[str(note)]\n",
    "                for time_range in time_ranges:\n",
    "                    if t < float(time_range[0]) - 0.05:\n",
    "                        break\n",
    "                    elif t >= float(time_range[0]) - 0.05 and t <= float(time_range[1]) + 0.05:\n",
    "                        correct += 1\n",
    "                        break\n",
    "        #print(relex+21, \"{0:.2f}\".format(t))\n",
    "        #print('\\n')\n",
    "    start = end\n",
    "    end += l\n",
    "    window+=1\n",
    "\n",
    "correct_percentage = float(correct) / total\n",
    "print(total)\n",
    "print (\"Correct percentage is: \" + str(correct_percentage))"
   ]
  },
  {
   "cell_type": "code",
   "execution_count": null,
   "metadata": {
    "collapsed": false,
    "scrolled": false
   },
   "outputs": [],
   "source": []
  },
  {
   "cell_type": "code",
   "execution_count": null,
   "metadata": {
    "collapsed": false
   },
   "outputs": [],
   "source": [
    "# plot ground truth\n",
    "# print(GT)\n",
    "# get the ground truth for the same duration as onsets\n",
    "lasttime = onsets.shape[-1] * window_size\n",
    "gt_plot = np.zeros(onsets.shape)\n",
    "for key in GT:\n",
    "    # MIDI notes are offset by 21\n",
    "    note = int(key) - 21\n",
    "    # val is array of arrays, where val[i] denotes the ith [onset,offset]\n",
    "    val = GT[key]\n",
    "    # for each onset/offset pair\n",
    "    for oopair in val:\n",
    "        start = float(oopair[0])\n",
    "        if start < lasttime:\n",
    "            # round nearest 50ms interval\n",
    "            #print(note)\n",
    "            t_index = math.floor(start/window_size)\n",
    "            gt_plot[note,t_index] = 1\n",
    "\n"
   ]
  },
  {
   "cell_type": "code",
   "execution_count": null,
   "metadata": {
    "collapsed": false
   },
   "outputs": [],
   "source": [
    "# # plot both on the same figure\n",
    "# # peak is OK if it occurs within [onset - 0.05, offset+0.05]\n",
    "# #print(onsets.shape)\n",
    "# if lownote>3: low = lownote - 3\n",
    "# if highnote<85: high = highnote + 3\n",
    "# noterange = [low,high]\n",
    "# x = np.linspace(0,duration,num=int(duration/window_size),endpoint=True)\n",
    "# y = np.arange(0,88)\n",
    "\n",
    "# # make each note thing skinny\n",
    "# for i in range(onsets.shape[1]-1):\n",
    "#     curr = onsets[:,i]\n",
    "#     nxt = onsets[:,i+1]\n",
    "#     # take differnce of two frames\n",
    "#     chnge = nxt - curr\n",
    "#     # where chnge = 0, we want to set next to 0\n",
    "#     indices = chnge < 1\n",
    "#     onsets[indices,i+1] = 0\n",
    "    \n",
    "# # set figure size\n",
    "# fig = plt.figure(num=None, figsize=(5, 10), dpi=80, facecolor='w', edgecolor='k')\n",
    "# ax1 = fig.add_subplot(2,1,1)\n",
    "# ax2 = fig.add_subplot(2,1,2)\n",
    "# major_ticks = np.arange(low,high)   \n",
    "# ax1.set_yticks(major_ticks)\n",
    "# ax1.pcolormesh(x,y,gt_plot,cmap='Blues')\n",
    "# ax2.pcolormesh(x,y,onsets,cmap='Greys')\n",
    "# ax2.set_yticks(major_ticks)\n",
    "# # zoom in on the notes that are actually being played\n",
    "# plt.ylim(noterange)\n",
    "# plt.xlabel('Time (s)')\n",
    "# ax.grid(True)\n",
    "# plt.show()"
   ]
  },
  {
   "cell_type": "code",
   "execution_count": null,
   "metadata": {
    "collapsed": false
   },
   "outputs": [],
   "source": [
    "# # experimental\n",
    "# # plot both on the same figure\n",
    "# # peak is OK if it occurs within [onset - 0.05, offset+0.05]\n",
    "# #print(onsets.shape)\n",
    "# if lownote>3: low = lownote - 3\n",
    "# if highnote<85: high = highnote + 3\n",
    "# noterange = [low,high]\n",
    "# x = np.linspace(0,duration,num=int(duration/window_size),endpoint=True)\n",
    "# y = np.arange(0,88)\n",
    "\n",
    "# # make each note thing skinny\n",
    "# for i in range(onsets.shape[1]-1):\n",
    "#     curr = onsets[:,i]\n",
    "#     nxt = onsets[:,i+1]\n",
    "#     # take differnce of two frames\n",
    "#     chnge = nxt - curr\n",
    "#     # where chnge = 0, we want to set next to 0\n",
    "#     indices = chnge < 1\n",
    "#     onsets[indices,i+1] = 0\n",
    "# major_ticks = np.arange(low,high) \n",
    "# # set figure size\n",
    "# fig = plt.figure(figsize=(10,20),tight_layout=True)\n",
    "# ax = fig.add_subplot(2,1,1)\n",
    "# ax.pcolormesh(x,y,onsets,cmap='Greys')\n",
    "\n",
    "# bx = fig.add_subplot(2,1,1)\n",
    "# bx.pcolormesh(x,y,gt_plot,cmap='OrRd')\n",
    "\n",
    "# # plt.subplot(3,1,1)\n",
    "# # plt.pcolormesh(x,y,onsets,cmap='Greys')\n",
    "# # plt.subplot(3,1,2)\n",
    "# # plt.pcolormesh(x,y,gt_plot,cmap='Blues')\n",
    "# # plt.subplot(3,1,3)\n",
    "# # plt.pcolormesh(x,y,gt_plot,cmap='Blues')\n",
    "# # plt.pcolormesh(x,y,onsets,cmap='Greys')\n",
    "# plt.show()"
   ]
  },
  {
   "cell_type": "code",
   "execution_count": 104,
   "metadata": {
    "collapsed": false
   },
   "outputs": [],
   "source": [
    "for i in range(onsets.shape[1]-1):\n",
    "    curr = onsets[:,i]\n",
    "    nxt = onsets[:,i+1]\n",
    "    # take differnce of two frames\n",
    "    chnge = nxt - curr\n",
    "    # where chnge = 0, we want to set next to 0\n",
    "    indices = chnge < 1\n",
    "    onsets[indices,i+1] = 0\n",
    "# change to 2d array\n",
    "x1 = []\n",
    "y1 = []\n",
    "x2 = []\n",
    "y2 = []\n",
    "for i in range(onsets.shape[1]):\n",
    "        col1 = onsets[:,i]\n",
    "        col2 = gt_plot[:,i]\n",
    "        # get indices where note is playing\n",
    "        counter = 0\n",
    "        for c1 in col1:\n",
    "            if c1:\n",
    "                x1.append(i)\n",
    "                y1.append(counter)\n",
    "            counter +=1\n",
    "        counter = 0\n",
    "        for c2 in col2:\n",
    "            if c2:\n",
    "                x2.append(i)\n",
    "                y2.append(counter)\n",
    "            counter+=1\n",
    "            "
   ]
  },
  {
   "cell_type": "code",
   "execution_count": 111,
   "metadata": {
    "collapsed": false
   },
   "outputs": [
    {
     "data": {
      "image/png": "[encoded data removed]",
      "text/plain": [
       "<matplotlib.figure.Figure at 0x245fb6dae80>"
      ]
     },
     "metadata": {},
     "output_type": "display_data"
    }
   ],
   "source": [
    "fig = plt.figure(figsize=(10,10))\n",
    "plt.plot(x1,y1,'bo',alpha=0.5,label = 'transcription')\n",
    "plt.plot(x2,y2,'yo',alpha=0.5,label = 'ground truth')\n",
    "plt.legend(loc = \"upper right\")\n",
    "ax = fig.add_subplot(1,1,1)\n",
    "major_ticks = np.arange(low,high)\n",
    "ax.set_yticks(major_ticks)\n",
    "ax.grid(True)\n",
    "plt.show()\n",
    "# # set figure size\n",
    "# fig = plt.figure(num=None, figsize=(5, 10), dpi=80, facecolor='w', edgecolor='k')\n",
    "# ax1 = fig.add_subplot(2,1,1)\n",
    "# ax2 = fig.add_subplot(2,1,2)\n",
    "# major_ticks = np.arange(low,high)   \n",
    "# ax1.set_yticks(major_ticks)\n",
    "# ax1.pcolormesh(x,y,gt_plot,cmap='Blues')\n",
    "# ax2.pcolormesh(x,y,onsets,cmap='Greys')\n",
    "# ax2.set_yticks(major_ticks)\n",
    "# # zoom in on the notes that are actually being played\n",
    "# plt.ylim(noterange)\n",
    "# plt.xlabel('Time (s)')\n",
    "# ax.grid(True)\n",
    "# plt.show()"
   ]
  },
  {
   "cell_type": "code",
   "execution_count": 113,
   "metadata": {
    "collapsed": false
   },
   "outputs": [
    {
     "data": {
      "text/plain": [
       "<matplotlib.collections.QuadMesh at 0x2458025e630>"
      ]
     },
     "execution_count": 113,
     "metadata": {},
     "output_type": "execute_result"
    },
    {
     "data": {
      "image/png": "[encoded data removed]",
      "text/plain": [
       "<matplotlib.figure.Figure at 0x245800b27b8>"
      ]
     },
     "metadata": {},
     "output_type": "display_data"
    }
   ],
   "source": [
    "plt.pcolormesh(gt_plot)\n"
   ]
  },
  {
   "cell_type": "code",
   "execution_count": null,
   "metadata": {
    "collapsed": true
   },
   "outputs": [],
   "source": []
  }
 ],
 "metadata": {
  "kernelspec": {
   "display_name": "Python 3",
   "language": "python",
   "name": "python3"
  },
  "language_info": {
   "codemirror_mode": {
    "name": "ipython",
    "version": 3
   },
   "file_extension": ".py",
   "mimetype": "text/x-python",
   "name": "python",
   "nbconvert_exporter": "python",
   "pygments_lexer": "ipython3",
   "version": "3.5.2"
  }
 },
 "nbformat": 4,
 "nbformat_minor": 2
}
