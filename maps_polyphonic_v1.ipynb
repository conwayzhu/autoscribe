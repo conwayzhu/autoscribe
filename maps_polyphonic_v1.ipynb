{
 "cells": [
  {
   "cell_type": "code",
   "execution_count": 2,
   "metadata": {
    "collapsed": false
   },
   "outputs": [
    {
     "ename": "ImportError",
     "evalue": "No module named 'librosa'",
     "output_type": "error",
     "traceback": [
      "\u001b[0;31m---------------------------------------------------------------------------\u001b[0m",
      "\u001b[0;31mImportError\u001b[0m                               Traceback (most recent call last)",
      "\u001b[0;32m<ipython-input-2-66aa73e5f95d>\u001b[0m in \u001b[0;36m<module>\u001b[0;34m()\u001b[0m\n\u001b[1;32m      1\u001b[0m \u001b[0;31m# first test for polyphonic music\u001b[0m\u001b[0;34m\u001b[0m\u001b[0;34m\u001b[0m\u001b[0m\n\u001b[0;32m----> 2\u001b[0;31m \u001b[0;32mimport\u001b[0m \u001b[0mlibrosa\u001b[0m\u001b[0;34m\u001b[0m\u001b[0m\n\u001b[0m\u001b[1;32m      3\u001b[0m \u001b[0;32mimport\u001b[0m \u001b[0mnumpy\u001b[0m \u001b[0;32mas\u001b[0m \u001b[0mnp\u001b[0m\u001b[0;34m\u001b[0m\u001b[0m\n\u001b[1;32m      4\u001b[0m \u001b[0;32mimport\u001b[0m \u001b[0mos\u001b[0m\u001b[0;34m\u001b[0m\u001b[0m\n\u001b[1;32m      5\u001b[0m \u001b[0;32mfrom\u001b[0m \u001b[0msporco\u001b[0m\u001b[0;34m.\u001b[0m\u001b[0madmm\u001b[0m \u001b[0;32mimport\u001b[0m \u001b[0mcbpdn\u001b[0m\u001b[0;34m\u001b[0m\u001b[0m\n",
      "\u001b[0;31mImportError\u001b[0m: No module named 'librosa'"
     ]
    }
   ],
   "source": [
    "# first test for polyphonic music\n",
    "import librosa\n",
    "import numpy as np\n",
    "import os\n",
    "from sporco.admm import cbpdn\n",
    "import sporco.metric as sm\n",
    "import pickle \n",
    "import matplotlib.pyplot as plt\n",
    "%matplotlib inline\n",
    "from scipy.signal import argrelextrema\n",
    "import scipy.io.wavfile\n",
    "sr = 11025"
   ]
  },
  {
   "cell_type": "code",
   "execution_count": 22,
   "metadata": {
    "collapsed": true
   },
   "outputs": [],
   "source": [
    "# load the dictionary\n",
    "D = []\n",
    "directory = './maps/notes/'\n",
    "\n",
    "for i in range(21,109):\n",
    "    fname1 = 'MAPS_ISOL_NO_F_S0_M' + str(i) + '_SptkBGCl.wav'\n",
    "    fname2 = 'MAPS_ISOL_NO_F_S1_M' + str(i) + '_SptkBGCl.wav'\n",
    "    \n",
    "    try:\n",
    "        s = librosa.load(directory + fname1, sr=11025,offset=0.7,duration=1.0)[0]\n",
    "    except:\n",
    "        s = librosa.load(directory + fname2, sr=11025,offset=0.7,duration=1.0)[0]\n",
    "    # normalize dictionary elements\n",
    "    D.append(s/np.amax(s))\n",
    "    \n",
    "D = np.asarray(D)\n",
    "D = D.T\n",
    "\n",
    "with open('mapsdict.pkl','wb') as fid:\n",
    "     pickle.dump(D,fid)"
   ]
  },
  {
   "cell_type": "code",
   "execution_count": 1,
   "metadata": {
    "collapsed": false
   },
   "outputs": [
    {
     "ename": "NameError",
     "evalue": "name 'pickle' is not defined",
     "output_type": "error",
     "traceback": [
      "\u001b[0;31m---------------------------------------------------------------------------\u001b[0m",
      "\u001b[0;31mNameError\u001b[0m                                 Traceback (most recent call last)",
      "\u001b[0;32m<ipython-input-1-6605cfec70e1>\u001b[0m in \u001b[0;36m<module>\u001b[0;34m()\u001b[0m\n\u001b[1;32m      1\u001b[0m \u001b[0;31m#solve the CBPDN problem\u001b[0m\u001b[0;34m\u001b[0m\u001b[0;34m\u001b[0m\u001b[0m\n\u001b[1;32m      2\u001b[0m \u001b[0;32mwith\u001b[0m \u001b[0mopen\u001b[0m\u001b[0;34m(\u001b[0m\u001b[0;34m'mapsdict.pkl'\u001b[0m\u001b[0;34m,\u001b[0m\u001b[0;34m'rb'\u001b[0m\u001b[0;34m)\u001b[0m \u001b[0;32mas\u001b[0m \u001b[0mfid\u001b[0m\u001b[0;34m:\u001b[0m\u001b[0;34m\u001b[0m\u001b[0m\n\u001b[0;32m----> 3\u001b[0;31m     \u001b[0mD\u001b[0m \u001b[0;34m=\u001b[0m \u001b[0mpickle\u001b[0m\u001b[0;34m.\u001b[0m\u001b[0mload\u001b[0m\u001b[0;34m(\u001b[0m\u001b[0mfid\u001b[0m\u001b[0;34m)\u001b[0m\u001b[0;34m\u001b[0m\u001b[0m\n\u001b[0m\u001b[1;32m      4\u001b[0m \u001b[0mprint\u001b[0m\u001b[0;34m(\u001b[0m\u001b[0mD\u001b[0m\u001b[0;34m.\u001b[0m\u001b[0mshape\u001b[0m\u001b[0;34m)\u001b[0m\u001b[0;34m\u001b[0m\u001b[0m\n\u001b[1;32m      5\u001b[0m \u001b[0mlmbda\u001b[0m \u001b[0;34m=\u001b[0m \u001b[0;36m0.005\u001b[0m\u001b[0;34m\u001b[0m\u001b[0m\n",
      "\u001b[0;31mNameError\u001b[0m: name 'pickle' is not defined"
     ]
    }
   ],
   "source": [
    "#solve the CBPDN problem\n",
    "with open('mapsdict.pkl','rb') as fid:\n",
    "    D = pickle.load(fid)\n",
    "print(D.shape)\n",
    "lmbda = 0.005\n",
    "# 1 temporal dimension\n",
    "dimN = 1\n",
    "\n",
    "opt = cbpdn.ConvBPDN.Options({'Verbose' : True, 'MaxMainIter' : 500,\n",
    "                    'HighMemSolve' : True, 'LinSolveCheck' : True,\n",
    "                    'RelStopTol' : 1e-3, 'AuxVarObj' : False})\n",
    "\n",
    "# load the song\n",
    "songdir = \"./maps/songs/\"\n",
    "songname = \"MAPS_MUS-alb_esp2_SptkBGCl.wav\"\n",
    "song, sr = librosa.load(songdir+songname,sr=sr,duration=5.0)\n",
    "\n",
    "# load the GT\n",
    "f = open('MAPS_MUS-alb_esp2_SptkBGCl.txt', 'rb')\n",
    "lines = f.readlines()[1:]\n",
    "GT = {}\n",
    "for row in lines:\n",
    "    row = row.strip('\\r\\n')\n",
    "    row = row.split('\\t')\n",
    "    if row in GT:\n",
    "        GT[row].append([row[1], row[2]])\n",
    "    else:\n",
    "        GT[row] = [[row[1], row[2]]]\n",
    "\n"
   ]
  },
  {
   "cell_type": "code",
   "execution_count": null,
   "metadata": {
    "collapsed": true
   },
   "outputs": [],
   "source": [
    "# sparce coding\n",
    "b = cbpdn.ConvBPDN(D, song, lmbda, opt,dimN=dimN)\n",
    "X = b.solve()\n",
    "X = X[:,0,0,:]\n",
    "with open('maps_results_esp2.pkl', 'wb') as fid:\n",
    "    pickle.dump(X, fid)"
   ]
  },
  {
   "cell_type": "code",
   "execution_count": 38,
   "metadata": {
    "collapsed": false
   },
   "outputs": [
    {
     "name": "stdout",
     "output_type": "stream",
     "text": [
      "threshold is 0.00183084793389\n",
      "finding maxima\n",
      "[38] 0.45\n",
      "\n",
      "\n",
      "[38 50] 0.5\n",
      "\n",
      "\n",
      "[57] 1.2000000000000002\n",
      "\n",
      "\n",
      "[66] 1.4000000000000001\n",
      "\n",
      "\n",
      "[50 62 66 69 81] 1.4500000000000002\n",
      "\n",
      "\n",
      "[33 45] 1.9000000000000001\n",
      "\n",
      "\n",
      "[38] 2.4000000000000004\n",
      "\n",
      "\n",
      "[38 50] 2.45\n",
      "\n",
      "\n",
      "[50] 2.5\n",
      "\n",
      "\n",
      "[57] 3.1500000000000004\n",
      "\n",
      "\n",
      "[50 62 66 81] 3.4000000000000004\n",
      "\n",
      "\n",
      "[33 45] 3.85\n",
      "\n",
      "\n",
      "[50 62 66] 4.3500000000000005\n",
      "\n",
      "\n",
      "[50] 4.4\n",
      "\n",
      "\n",
      "[66] 4.65\n",
      "\n",
      "\n",
      "[66] 4.9\n",
      "\n",
      "\n",
      "[66] 4.95\n",
      "\n",
      "\n"
     ]
    }
   ],
   "source": [
    "with open('maps_results_esp2.pkl','rb') as Y:\n",
    "    Y = pickle.load(Y)\n",
    "    \n",
    "duration = song.shape[0]/sr\n",
    "\n",
    "lmaxes = np.asarray([])\n",
    "for row in Y:\n",
    "    relex = argrelextrema(row,np.greater)[0]\n",
    "    lmaxes = np.concatenate((lmaxes,row[relex]))\n",
    "\n",
    "p75,p25 = np.percentile(lmaxes, [75,25])\n",
    "# try different values for iqr\n",
    "threshold = p75 + 12*(p75-p25)\n",
    "# lmaxes = np.sort(lmaxes)\n",
    "# l = lmaxes.shape[0]\n",
    "# threshold = lmaxes[95*int(l/100)]\n",
    "# need to select proper threshold value\n",
    "print('threshold is', threshold)\n",
    "# new array of only below threshold\n",
    "lowvals = Y < threshold\n",
    "Y[lowvals] = 0\n"
   ]
  },
  {
   "cell_type": "code",
   "execution_count": null,
   "metadata": {
    "collapsed": true
   },
   "outputs": [],
   "source": [
    "# peak is OK if it occurs within [onset - 0.05, offset+0.05]\n",
    "#duration of each window\n",
    "window_size = 0.05\n",
    "start = 0\n",
    "l = int(sr*window_size)\n",
    "end = l\n",
    "window = 0\n",
    "print('finding maxima')\n",
    "\n",
    "correct = 0\n",
    "total = 0\n",
    "for i in range(int(duration/window_size)):\n",
    "    row = Y[start:end,:]\n",
    "    sumrow = np.sum(row,axis=0)\n",
    "    relex = argrelextrema(sumrow,np.greater)[0]\n",
    "    if(len(relex) != 0):\n",
    "        t = window_size * window\n",
    "        for note in relex:\n",
    "            note += 21\n",
    "            total += 1\n",
    "            if note in GT:\n",
    "                time_ranges = GT[note]\n",
    "                for time_range in time_ranges:\n",
    "                    if t < float(time_range[0]) - 0.05:\n",
    "                        correct += 1\n",
    "                    elif t >= float(time_range[0]) - 0.05 and t <= float(time_range[1]) + 0.05:\n",
    "                            break\n",
    "                            \n",
    "    start = end\n",
    "    end += l\n",
    "    window+=1\n",
    "\n",
    "correct_percentage = float(correct) / total\n",
    "print (\"Correct percentage is: \" + correct_percentage)"
   ]
  }
 ],
 "metadata": {
  "kernelspec": {
   "display_name": "Python 3",
   "language": "python",
   "name": "python3"
  },
  "language_info": {
   "codemirror_mode": {
    "name": "ipython",
    "version": 3
   },
   "file_extension": ".py",
   "mimetype": "text/x-python",
   "name": "python",
   "nbconvert_exporter": "python",
   "pygments_lexer": "ipython3",
   "version": "3.5.2"
  }
 },
 "nbformat": 4,
 "nbformat_minor": 2
}
