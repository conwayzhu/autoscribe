{
 "cells": [
  {
   "cell_type": "code",
   "execution_count": 1,
   "metadata": {
    "collapsed": false
   },
   "outputs": [],
   "source": [
    "# first test for polyphonic music\n",
    "import librosa\n",
    "import numpy as np\n",
    "import os\n",
    "from sporco.admm import cbpdn\n",
    "import sporco.metric as sm\n",
    "import pickle \n",
    "import matplotlib.pyplot as plt\n",
    "%matplotlib inline\n",
    "from scipy.signal import argrelextrema\n",
    "import scipy.io.wavfile\n",
    "sr = 11025"
   ]
  },
  {
   "cell_type": "code",
   "execution_count": 2,
   "metadata": {
    "collapsed": true
   },
   "outputs": [],
   "source": [
    "# load the dictionary\n",
    "D = []\n",
    "directory = './maps/notes/'\n",
    "\n",
    "for i in range(21,109):\n",
    "    fname1 = 'MAPS_ISOL_NO_F_S0_M' + str(i) + '_SptkBGCl.wav'\n",
    "    fname2 = 'MAPS_ISOL_NO_F_S1_M' + str(i) + '_SptkBGCl.wav'\n",
    "    \n",
    "    try:\n",
    "        s = librosa.load(directory + fname1, sr=11025,offset=0.7,duration=1.0)[0]\n",
    "    except:\n",
    "        s = librosa.load(directory + fname2, sr=11025,offset=0.7,duration=1.0)[0]\n",
    "    # normalize dictionary elements\n",
    "    D.append(s/np.amax(s))\n",
    "    \n",
    "D = np.asarray(D)\n",
    "D = D.T\n",
    "\n",
    "with open('mapsdict.pkl','wb') as fid:\n",
    "     pickle.dump(D,fid)"
   ]
  },
  {
   "cell_type": "code",
   "execution_count": 13,
   "metadata": {
    "collapsed": false
   },
   "outputs": [
    {
     "name": "stdout",
     "output_type": "stream",
     "text": [
      "(11025, 88)\n"
     ]
    }
   ],
   "source": [
    "#solve the CBPDN problem\n",
    "with open('mapsdict.pkl','rb') as fid:\n",
    "    D = pickle.load(fid)\n",
    "print(D.shape)\n",
    "lmbda = 0.005\n",
    "# 1 temporal dimension\n",
    "dimN = 1\n",
    "\n",
    "opt = cbpdn.ConvBPDN.Options({'Verbose' : True, 'MaxMainIter' : 500,\n",
    "                    'HighMemSolve' : True, 'LinSolveCheck' : True,\n",
    "                    'RelStopTol' : 1e-3, 'AuxVarObj' : False})\n",
    "\n",
    "# load the song\n",
    "songdir = \"./maps/songs/\"\n",
    "songname = \"MAPS_MUS-alb_esp2_SptkBGCl.wav\"\n",
    "song, sr = librosa.load(songdir+songname,sr=sr,duration=5.0)\n",
    "\n",
    "# load the GT\n",
    "f = open(songdir + 'MAPS_MUS-alb_esp2_SptkBGCl.txt', 'rb')\n",
    "lines = f.readlines()[1:]\n",
    "GT = {}\n",
    "for row in lines:\n",
    "    row = row.decode().strip('\\r\\n')\n",
    "    row = row.split('\\t')\n",
    "    if row[2] in GT:\n",
    "        GT[row[2]].append([row[0], row[1]])\n",
    "    else:\n",
    "        GT[row[2]] = [[row[0], row[1]]]\n",
    "\n"
   ]
  },
  {
   "cell_type": "code",
   "execution_count": null,
   "metadata": {
    "collapsed": true
   },
   "outputs": [],
   "source": [
    "# sparce coding\n",
    "b = cbpdn.ConvBPDN(D, song, lmbda, opt,dimN=dimN)\n",
    "X = b.solve()\n",
    "X = X[:,0,0,:]\n",
    "with open('maps_results_esp2.pkl', 'wb') as fid:\n",
    "    pickle.dump(X, fid)"
   ]
  },
  {
   "cell_type": "code",
   "execution_count": 14,
   "metadata": {
    "collapsed": false
   },
   "outputs": [
    {
     "name": "stdout",
     "output_type": "stream",
     "text": [
      "threshold is 0.00183084793389\n"
     ]
    }
   ],
   "source": [
    "with open('maps_results_esp2.pkl','rb') as Y:\n",
    "    Y = pickle.load(Y)\n",
    "    \n",
    "duration = song.shape[0]/sr\n",
    "\n",
    "lmaxes = np.asarray([])\n",
    "for row in Y:\n",
    "    relex = argrelextrema(row,np.greater)[0]\n",
    "    lmaxes = np.concatenate((lmaxes,row[relex]))\n",
    "\n",
    "p75,p25 = np.percentile(lmaxes, [75,25])\n",
    "# try different values for iqr\n",
    "threshold = p75 + 12*(p75-p25)\n",
    "# lmaxes = np.sort(lmaxes)\n",
    "# l = lmaxes.shape[0]\n",
    "# threshold = lmaxes[95*int(l/100)]\n",
    "# need to select proper threshold value\n",
    "print('threshold is', threshold)\n",
    "# new array of only below threshold\n",
    "lowvals = Y < threshold\n",
    "Y[lowvals] = 0\n"
   ]
  },
  {
   "cell_type": "code",
   "execution_count": 21,
   "metadata": {
    "collapsed": false
   },
   "outputs": [
    {
     "name": "stdout",
     "output_type": "stream",
     "text": [
      "finding maxima\n",
      "30\n",
      "Correct percentage is: 0.8666666666666667\n"
     ]
    }
   ],
   "source": [
    "# peak is OK if it occurs within [onset - 0.05, offset+0.05]\n",
    "#duration of each window\n",
    "window_size = 0.05\n",
    "start = 0\n",
    "l = int(sr*window_size)\n",
    "end = l\n",
    "window = 0\n",
    "print('finding maxima')\n",
    "\n",
    "correct = 0\n",
    "total = 0\n",
    "for i in range(int(duration/window_size)):\n",
    "    row = Y[start:end,:]\n",
    "    sumrow = np.sum(row,axis=0)\n",
    "    relex = argrelextrema(sumrow,np.greater)[0]\n",
    "    if(len(relex) != 0):\n",
    "        t = window_size * window\n",
    "        for note in relex:\n",
    "            note += 21\n",
    "            total += 1\n",
    "            if str(note) in GT:\n",
    "                time_ranges = GT[str(note)]\n",
    "                for time_range in time_ranges:\n",
    "                    if t < float(time_range[0]) - 0.05:\n",
    "                        break\n",
    "                    elif t >= float(time_range[0]) - 0.05 and t <= float(time_range[1]) + 0.05:\n",
    "                        correct += 1\n",
    "                        break\n",
    "                            \n",
    "    start = end\n",
    "    end += l\n",
    "    window+=1\n",
    "\n",
    "correct_percentage = float(correct) / total\n",
    "print(total)\n",
    "print (\"Correct percentage is: \" + str(correct_percentage))"
   ]
  },
  {
   "cell_type": "code",
   "execution_count": null,
   "metadata": {
    "collapsed": true
   },
   "outputs": [],
   "source": []
  }
 ],
 "metadata": {
  "kernelspec": {
   "display_name": "Python 3",
   "language": "python",
   "name": "python3"
  },
  "language_info": {
   "codemirror_mode": {
    "name": "ipython",
    "version": 3
   },
   "file_extension": ".py",
   "mimetype": "text/x-python",
   "name": "python",
   "nbconvert_exporter": "python",
   "pygments_lexer": "ipython3",
   "version": "3.5.2"
  }
 },
 "nbformat": 4,
 "nbformat_minor": 2
}
