{
 "cells": [
  {
   "cell_type": "code",
   "execution_count": 1,
   "metadata": {
    "collapsed": false
   },
   "outputs": [],
   "source": [
    "# first test for polyphonic music\n",
    "import librosa\n",
    "import numpy as np\n",
    "import os\n",
    "from sporco.admm import cbpdn\n",
    "import sporco.metric as sm\n",
    "import pickle \n",
    "import matplotlib.pyplot as plt\n",
    "%matplotlib inline\n",
    "from scipy.signal import argrelextrema\n",
    "import scipy.io.wavfile\n",
    "sr = 11025"
   ]
  },
  {
   "cell_type": "code",
   "execution_count": 2,
   "metadata": {
    "collapsed": true
   },
   "outputs": [],
   "source": [
    "# load the dictionary\n",
    "D = []\n",
    "directory = './maps/notes/'\n",
    "\n",
    "for i in range(21,109):\n",
    "    fname1 = 'MAPS_ISOL_NO_F_S0_M' + str(i) + '_SptkBGCl.wav'\n",
    "    fname2 = 'MAPS_ISOL_NO_F_S1_M' + str(i) + '_SptkBGCl.wav'\n",
    "    \n",
    "    try:\n",
    "        s = librosa.load(directory + fname1, sr=11025,offset=0.7,duration=1.0)[0]\n",
    "    except:\n",
    "        s = librosa.load(directory + fname2, sr=11025,offset=0.7,duration=1.0)[0]\n",
    "    # normalize dictionary elements\n",
    "    D.append(s/np.amax(s))\n",
    "    \n",
    "D = np.asarray(D)\n",
    "D = D.T\n",
    "\n",
    "with open('mapsdict.pkl','wb') as fid:\n",
    "     pickle.dump(D,fid)"
   ]
  },
  {
   "cell_type": "code",
<<<<<<< Updated upstream
   "execution_count": 13,
=======
   "execution_count": null,
>>>>>>> Stashed changes
   "metadata": {
    "collapsed": false
   },
   "outputs": [
    {
     "name": "stdout",
     "output_type": "stream",
     "text": [
<<<<<<< Updated upstream
      "(11025, 88)\n"
=======
      "(11025, 88)\n",
      "Itn   Fnc       DFid      Regℓ1     r         s         ρ         \n",
      "----------------------------------------------------------------\n",
      "   0  4.34e+00  3.84e+00  9.87e+01  1.00e+00  0.00e+00  1.25e+00\n",
      "   1  4.27e+00  3.78e+00  9.86e+01  1.00e+00  0.00e+00  1.25e+00\n",
      "   2  4.79e-01  3.91e-02  8.81e+01  3.87e-01  2.57e+00  1.25e+03\n",
      "   3  7.01e-01  1.23e-02  1.38e+02  4.81e-01  6.95e-01  4.80e+02\n",
      "   4  5.94e-01  8.11e-03  1.17e+02  4.41e-01  4.26e-01  3.95e+02\n",
      "   5  4.96e-01  8.56e-03  9.75e+01  3.39e-01  2.86e-01  3.95e+02\n",
      "   6  4.36e-01  8.11e-03  8.56e+01  2.49e-01  2.38e-01  3.95e+02\n",
      "   7  3.89e-01  7.46e-03  7.64e+01  1.96e-01  2.07e-01  3.95e+02\n",
      "   8  3.40e-01  7.19e-03  6.66e+01  1.56e-01  1.81e-01  3.95e+02\n",
      "   9  3.04e-01  7.16e-03  5.94e+01  1.23e-01  1.61e-01  3.95e+02\n",
      "  10  2.94e-01  7.09e-03  5.75e+01  1.11e-01  1.43e-01  3.40e+02\n",
      "  11  2.85e-01  6.95e-03  5.57e+01  1.00e-01  1.29e-01  2.96e+02\n",
      "  12  2.74e-01  6.79e-03  5.35e+01  9.14e-02  1.15e-01  2.58e+02\n",
      "  13  2.64e-01  6.66e-03  5.16e+01  8.29e-02  1.04e-01  2.28e+02\n",
      "  14  2.53e-01  6.60e-03  4.93e+01  7.52e-02  9.43e-02  2.01e+02\n",
      "  15  2.45e-01  6.53e-03  4.76e+01  6.86e-02  8.56e-02  1.77e+02\n",
      "  16  2.36e-01  6.50e-03  4.59e+01  6.29e-02  7.85e-02  1.57e+02\n",
      "  17  2.30e-01  6.43e-03  4.46e+01  5.82e-02  7.21e-02  1.39e+02\n",
      "  18  2.22e-01  6.47e-03  4.32e+01  5.42e-02  6.62e-02  1.23e+02\n",
      "  19  2.17e-01  6.42e-03  4.21e+01  5.07e-02  6.08e-02  1.11e+02\n",
      "  20  2.10e-01  6.51e-03  4.07e+01  4.74e-02  5.62e-02  9.98e+01\n",
      "  21  2.06e-01  6.62e-03  3.98e+01  4.46e-02  5.20e-02  9.06e+01\n",
      "  22  1.98e-01  6.52e-03  3.83e+01  3.93e-02  4.83e-02  9.06e+01\n",
      "  23  1.95e-01  6.65e-03  3.77e+01  3.82e-02  4.51e-02  8.08e+01\n",
      "  24  1.92e-01  6.74e-03  3.70e+01  3.68e-02  4.21e-02  7.35e+01\n",
      "  25  1.89e-01  6.64e-03  3.64e+01  3.34e-02  3.94e-02  7.35e+01\n",
      "  26  1.87e-01  6.93e-03  3.60e+01  3.27e-02  3.71e-02  6.69e+01\n",
      "  27  1.85e-01  6.97e-03  3.55e+01  3.01e-02  3.49e-02  6.69e+01\n",
      "  28  1.82e-01  6.88e-03  3.51e+01  2.79e-02  3.31e-02  6.69e+01\n",
      "  29  1.81e-01  6.99e-03  3.49e+01  2.77e-02  3.14e-02  6.06e+01\n",
      "  30  1.80e-01  7.03e-03  3.45e+01  2.59e-02  2.98e-02  6.06e+01\n",
      "  31  1.79e-01  7.11e-03  3.43e+01  2.44e-02  2.84e-02  6.06e+01\n",
      "  32  1.77e-01  6.98e-03  3.40e+01  2.30e-02  2.71e-02  6.06e+01\n",
      "  33  1.76e-01  7.27e-03  3.38e+01  2.31e-02  2.59e-02  5.53e+01\n",
      "  34  1.76e-01  7.26e-03  3.37e+01  2.20e-02  2.48e-02  5.53e+01\n",
      "  35  1.75e-01  7.35e-03  3.35e+01  2.09e-02  2.38e-02  5.53e+01\n",
      "  36  1.74e-01  7.17e-03  3.34e+01  2.00e-02  2.29e-02  5.53e+01\n",
      "  37  1.73e-01  7.18e-03  3.33e+01  1.91e-02  2.20e-02  5.53e+01\n",
      "  38  1.73e-01  7.24e-03  3.31e+01  1.83e-02  2.13e-02  5.53e+01\n",
      "  39  1.72e-01  7.28e-03  3.29e+01  1.76e-02  2.06e-02  5.53e+01\n",
      "  40  1.71e-01  7.32e-03  3.27e+01  1.70e-02  2.00e-02  5.53e+01\n",
      "  41  1.71e-01  7.69e-03  3.26e+01  1.72e-02  1.94e-02  5.04e+01\n",
      "  42  1.70e-01  7.49e-03  3.25e+01  1.66e-02  1.88e-02  5.04e+01\n",
      "  43  1.69e-01  7.55e-03  3.24e+01  1.61e-02  1.82e-02  5.04e+01\n",
      "  44  1.69e-01  7.50e-03  3.23e+01  1.55e-02  1.76e-02  5.04e+01\n",
      "  45  1.68e-01  7.43e-03  3.22e+01  1.50e-02  1.71e-02  5.04e+01\n",
      "  46  1.68e-01  7.58e-03  3.21e+01  1.46e-02  1.66e-02  5.04e+01\n",
      "  47  1.68e-01  7.68e-03  3.20e+01  1.41e-02  1.62e-02  5.04e+01\n",
      "  48  1.67e-01  7.54e-03  3.19e+01  1.37e-02  1.58e-02  5.04e+01\n",
      "  49  1.66e-01  7.61e-03  3.18e+01  1.33e-02  1.54e-02  5.04e+01\n",
      "  50  1.66e-01  7.66e-03  3.16e+01  1.30e-02  1.50e-02  5.04e+01\n",
      "  51  1.65e-01  7.44e-03  3.15e+01  1.26e-02  1.47e-02  5.04e+01\n",
      "  52  1.64e-01  7.48e-03  3.14e+01  1.23e-02  1.43e-02  5.04e+01\n",
      "  53  1.64e-01  7.63e-03  3.13e+01  1.20e-02  1.40e-02  5.04e+01\n",
      "  54  1.63e-01  7.31e-03  3.12e+01  1.17e-02  1.37e-02  5.04e+01\n",
      "  55  1.63e-01  7.69e-03  3.11e+01  1.19e-02  1.34e-02  4.59e+01\n",
      "  56  1.63e-01  7.56e-03  3.10e+01  1.16e-02  1.31e-02  4.59e+01\n",
      "  57  1.63e-01  7.76e-03  3.10e+01  1.13e-02  1.27e-02  4.59e+01\n",
      "  58  1.62e-01  7.72e-03  3.09e+01  1.11e-02  1.24e-02  4.59e+01\n",
      "  59  1.62e-01  7.78e-03  3.09e+01  1.08e-02  1.21e-02  4.59e+01\n",
      "  60  1.62e-01  7.78e-03  3.08e+01  1.06e-02  1.18e-02  4.59e+01\n",
      "  61  1.62e-01  7.89e-03  3.07e+01  1.03e-02  1.15e-02  4.59e+01\n",
      "  62  1.61e-01  7.65e-03  3.07e+01  1.01e-02  1.13e-02  4.59e+01\n",
      "  63  1.61e-01  7.70e-03  3.06e+01  9.86e-03  1.10e-02  4.59e+01\n",
      "  64  1.60e-01  7.74e-03  3.05e+01  9.64e-03  1.08e-02  4.59e+01\n",
      "  65  1.60e-01  7.60e-03  3.04e+01  9.43e-03  1.06e-02  4.59e+01\n",
      "  66  1.59e-01  7.65e-03  3.03e+01  9.23e-03  1.04e-02  4.59e+01\n",
      "  67  1.59e-01  7.72e-03  3.03e+01  9.03e-03  1.02e-02  4.59e+01\n",
      "  68  1.58e-01  7.63e-03  3.02e+01  8.85e-03  1.00e-02  4.59e+01\n",
      "  69  1.58e-01  7.69e-03  3.01e+01  8.66e-03  9.82e-03  4.59e+01\n",
      "  70  1.58e-01  7.72e-03  3.00e+01  8.49e-03  9.64e-03  4.59e+01\n",
      "  71  1.58e-01  7.80e-03  3.00e+01  8.33e-03  9.48e-03  4.59e+01\n",
      "  72  1.57e-01  7.80e-03  2.99e+01  8.16e-03  9.31e-03  4.59e+01\n",
      "  73  1.57e-01  7.74e-03  2.98e+01  8.01e-03  9.15e-03  4.59e+01\n",
      "  74  1.57e-01  7.86e-03  2.98e+01  7.86e-03  9.01e-03  4.59e+01\n",
      "  75  1.56e-01  7.74e-03  2.97e+01  7.72e-03  8.86e-03  4.59e+01\n",
      "  76  1.56e-01  7.77e-03  2.97e+01  7.57e-03  8.72e-03  4.59e+01\n",
      "  77  1.56e-01  7.75e-03  2.96e+01  7.44e-03  8.58e-03  4.59e+01\n",
      "  78  1.55e-01  7.66e-03  2.95e+01  7.30e-03  8.44e-03  4.59e+01\n",
      "  79  1.55e-01  7.70e-03  2.95e+01  7.17e-03  8.30e-03  4.59e+01\n",
      "  80  1.55e-01  7.55e-03  2.94e+01  7.04e-03  8.17e-03  4.59e+01\n",
      "  81  1.54e-01  7.61e-03  2.93e+01  6.92e-03  8.04e-03  4.59e+01\n",
      "  82  1.54e-01  7.58e-03  2.93e+01  6.79e-03  7.91e-03  4.59e+01\n",
      "  83  1.54e-01  7.68e-03  2.92e+01  6.68e-03  7.79e-03  4.59e+01\n",
      "  84  1.54e-01  7.71e-03  2.92e+01  6.56e-03  7.68e-03  4.59e+01\n",
      "  85  1.53e-01  7.48e-03  2.91e+01  6.44e-03  7.55e-03  4.59e+01\n",
      "  86  1.53e-01  7.59e-03  2.91e+01  6.34e-03  7.41e-03  4.59e+01\n",
      "  87  1.53e-01  7.55e-03  2.90e+01  6.23e-03  7.30e-03  4.59e+01\n",
      "  88  1.53e-01  7.69e-03  2.90e+01  6.13e-03  7.19e-03  4.59e+01\n",
      "  89  1.53e-01  8.55e-03  2.90e+01  6.28e-03  7.07e-03  4.19e+01\n",
      "  90  1.53e-01  8.39e-03  2.89e+01  6.18e-03  6.94e-03  4.19e+01\n",
      "  91  1.53e-01  8.38e-03  2.89e+01  6.09e-03  6.80e-03  4.19e+01\n",
      "  92  1.53e-01  8.18e-03  2.89e+01  5.99e-03  6.66e-03  4.19e+01\n",
      "  93  1.53e-01  8.25e-03  2.89e+01  5.90e-03  6.54e-03  4.19e+01\n",
      "  94  1.52e-01  8.35e-03  2.88e+01  5.81e-03  6.41e-03  4.19e+01\n",
      "  95  1.52e-01  8.16e-03  2.88e+01  5.72e-03  6.30e-03  4.19e+01\n",
      "  96  1.52e-01  8.04e-03  2.87e+01  5.63e-03  6.20e-03  4.19e+01\n",
      "  97  1.52e-01  8.35e-03  2.87e+01  5.55e-03  6.10e-03  4.19e+01\n",
      "  98  1.52e-01  8.29e-03  2.87e+01  5.46e-03  6.00e-03  4.19e+01\n",
      "  99  1.51e-01  8.11e-03  2.86e+01  5.37e-03  5.91e-03  4.19e+01\n",
      " 100  1.51e-01  8.37e-03  2.86e+01  5.29e-03  5.82e-03  4.19e+01\n",
      " 101  1.51e-01  8.51e-03  2.85e+01  5.21e-03  5.74e-03  4.19e+01\n",
      " 102  1.51e-01  8.17e-03  2.85e+01  5.13e-03  5.66e-03  4.19e+01\n",
      " 103  1.51e-01  8.43e-03  2.85e+01  5.06e-03  5.59e-03  4.19e+01\n",
      " 104  1.50e-01  8.18e-03  2.84e+01  4.98e-03  5.51e-03  4.19e+01\n",
      " 105  1.50e-01  8.32e-03  2.84e+01  4.91e-03  5.44e-03  4.19e+01\n"
>>>>>>> Stashed changes
     ]
    }
   ],
   "source": [
    "#solve the CBPDN problem\n",
    "with open('mapsdict.pkl','rb') as fid:\n",
    "    D = pickle.load(fid)\n",
    "print(D.shape)\n",
    "lmbda = 0.005\n",
    "# 1 temporal dimension\n",
    "dimN = 1\n",
    "\n",
    "opt = cbpdn.ConvBPDN.Options({'Verbose' : True, 'MaxMainIter' : 500,\n",
    "                    'HighMemSolve' : True, 'LinSolveCheck' : True,\n",
    "                    'RelStopTol' : 1e-3, 'AuxVarObj' : False})\n",
    "\n",
    "# load the song\n",
    "songdir = \"./maps/songs/\"\n",
    "songname = \"MAPS_MUS-alb_esp2_SptkBGCl.wav\"\n",
    "song, sr = librosa.load(songdir+songname,sr=sr,duration=30.0)\n",
    "\n",
    "# load the GT\n",
    "f = open(songdir + 'MAPS_MUS-alb_esp2_SptkBGCl.txt', 'rb')\n",
    "lines = f.readlines()[1:]\n",
    "GT = {}\n",
    "for row in lines:\n",
    "    row = row.decode().strip('\\r\\n')\n",
    "    row = row.split('\\t')\n",
    "    if row[2] in GT:\n",
    "        GT[row[2]].append([row[0], row[1]])\n",
    "    else:\n",
    "        GT[row[2]] = [[row[0], row[1]]]\n",
    "\n"
   ]
  },
  {
   "cell_type": "code",
<<<<<<< Updated upstream
   "execution_count": null,
   "metadata": {
    "collapsed": true
   },
   "outputs": [],
   "source": [
    "# sparce coding\n",
    "b = cbpdn.ConvBPDN(D, song, lmbda, opt,dimN=dimN)\n",
    "X = b.solve()\n",
    "X = X[:,0,0,:]\n",
    "with open('maps_results_esp2.pkl', 'wb') as fid:\n",
    "    pickle.dump(X, fid)"
   ]
  },
  {
   "cell_type": "code",
   "execution_count": 14,
=======
   "execution_count": 74,
>>>>>>> Stashed changes
   "metadata": {
    "collapsed": false
   },
   "outputs": [
    {
     "name": "stdout",
     "output_type": "stream",
     "text": [
<<<<<<< Updated upstream
      "threshold is 0.00183084793389\n"
=======
      "threshold is 0.00183084793389\n",
      "finding maxima\n"
>>>>>>> Stashed changes
     ]
    }
   ],
   "source": [
    "with open('maps_results_esp2.pkl','rb') as Y:\n",
    "    Y = pickle.load(Y)\n",
    "    \n",
    "duration = song.shape[0]/sr\n",
    "\n",
    "lmaxes = np.asarray([])\n",
    "for row in Y:\n",
    "    relex = argrelextrema(row,np.greater)[0]\n",
    "    lmaxes = np.concatenate((lmaxes,row[relex]))\n",
    "\n",
    "p75,p25 = np.percentile(lmaxes, [75,25])\n",
    "# try different values for iqr\n",
    "threshold = p75 + 12*(p75-p25)\n",
    "# lmaxes = np.sort(lmaxes)\n",
    "# l = lmaxes.shape[0]\n",
    "# threshold = lmaxes[95*int(l/100)]\n",
    "# need to select proper threshold value\n",
    "print('threshold is', threshold)\n",
    "# new array of only below threshold\n",
    "lowvals = Y < threshold\n",
    "Y[lowvals] = 0\n"
   ]
  },
  {
   "cell_type": "code",
   "execution_count": 21,
   "metadata": {
    "collapsed": false
   },
   "outputs": [
    {
     "name": "stdout",
     "output_type": "stream",
     "text": [
      "finding maxima\n",
      "30\n",
      "Correct percentage is: 0.8666666666666667\n"
     ]
    }
   ],
   "source": [
    "# peak is OK if it occurs within [onset - 0.05, offset+0.05]\n",
    "#duration of each window\n",
    "window_size = 0.05\n",
    "start = 0\n",
    "l = int(sr*window_size)\n",
    "end = l\n",
    "window = 0\n",
    "print('finding maxima')\n",
<<<<<<< Updated upstream
    "\n",
    "correct = 0\n",
    "total = 0\n",
=======
    "# 2D array that represents onsets\n",
    "onsets = np.zeros((88,int(duration/0.05)))\n",
    "# keep track of highest note, low (for plotting purposes)\n",
    "highnote = 0\n",
    "lownote = 100\n",
>>>>>>> Stashed changes
    "for i in range(int(duration/window_size)):\n",
    "    row = Y[start:end,:]\n",
    "    sumrow = np.sum(row,axis=0)\n",
    "    relex = argrelextrema(sumrow,np.greater)[0]\n",
    "    if(len(relex) != 0):\n",
    "        # time index that the note occurs\n",
    "        high = np.amax(relex)\n",
    "        low = np.amin(relex)\n",
    "        if high > highnote:\n",
    "            highnote = high\n",
    "        if low < lownote:\n",
    "            lownote = low\n",
    "        tindex = window\n",
    "        onsets[relex,tindex] = 1\n",
    "        t = window_size * window\n",
<<<<<<< Updated upstream
    "        for note in relex:\n",
    "            note += 21\n",
    "            total += 1\n",
    "            if str(note) in GT:\n",
    "                time_ranges = GT[str(note)]\n",
    "                for time_range in time_ranges:\n",
    "                    if t < float(time_range[0]) - 0.05:\n",
    "                        break\n",
    "                    elif t >= float(time_range[0]) - 0.05 and t <= float(time_range[1]) + 0.05:\n",
    "                        correct += 1\n",
    "                        break\n",
    "                            \n",
=======
    "        #print(relex+21, \"{0:.2f}\".format(t))\n",
    "        #print('\\n')\n",
>>>>>>> Stashed changes
    "    start = end\n",
    "    end += l\n",
    "    window+=1\n",
    "\n",
    "correct_percentage = float(correct) / total\n",
    "print(total)\n",
    "print (\"Correct percentage is: \" + str(correct_percentage))"
   ]
  },
  {
   "cell_type": "code",
   "execution_count": 110,
   "metadata": {
    "collapsed": false,
    "scrolled": false
   },
   "outputs": [
    {
     "name": "stdout",
     "output_type": "stream",
     "text": [
      "12 60\n"
     ]
    },
    {
     "data": {
      "image/png": "iVBORw0KGgoAAAANSUhEUgAAAV8AAATrCAYAAAA61rFFAAAABHNCSVQICAgIfAhkiAAAAAlwSFlz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\n",
      "text/plain": [
       "<matplotlib.figure.Figure at 0x17684796b70>"
      ]
     },
     "metadata": {},
     "output_type": "display_data"
    }
   ],
   "source": [
    "# peak is OK if it occurs within [onset - 0.05, offset+0.05]\n",
    "#print(onsets.shape)\n",
    "if lownote>3: low = lownote - 3\n",
    "if highnote<85: high = highnote + 3\n",
    "noterange = [low,high]\n",
    "x = np.linspace(0,duration,num=int(duration/window_size),endpoint=True)\n",
    "y = np.arange(0,88)\n",
    "\n",
    "# make each note thing skinny\n",
    "for i in range(onsets.shape[1]-1):\n",
    "    curr = onsets[:,i]\n",
    "    nxt = onsets[:,i+1]\n",
    "    # take differnce of two frames\n",
    "    chnge = nxt - curr\n",
    "    # where chnge = 0, we want to set next to 0\n",
    "    indices = chnge < 1\n",
    "    onsets[indices,i+1] = 0\n",
    "    \n",
    "# set plot size\n",
    "fig = plt.figure(num=None, figsize=(5, 20), dpi=80, facecolor='w', edgecolor='k')\n",
    "ax = fig.add_subplot(1,1,1) \n",
    "major_ticks = np.arange(low,high)       \n",
    "ax.set_yticks(major_ticks)\n",
    "plt.pcolormesh(x,y,onsets,cmap='Greys')\n",
    "# zoom in on the notes that are actually being played\n",
    "plt.ylim(noterange)\n",
    "plt.xlabel('Time (s)')\n",
    "ax.grid(True)"
   ]
  },
  {
   "cell_type": "code",
   "execution_count": null,
   "metadata": {
    "collapsed": true
   },
   "outputs": [],
   "source": []
  }
 ],
 "metadata": {
  "kernelspec": {
   "display_name": "Python 3",
   "language": "python",
   "name": "python3"
  },
  "language_info": {
   "codemirror_mode": {
    "name": "ipython",
    "version": 3
   },
   "file_extension": ".py",
   "mimetype": "text/x-python",
   "name": "python",
   "nbconvert_exporter": "python",
   "pygments_lexer": "ipython3",
   "version": "3.5.2"
  }
 },
 "nbformat": 4,
 "nbformat_minor": 2
}
