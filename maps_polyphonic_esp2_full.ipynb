{
 "cells": [
  {
   "cell_type": "code",
   "execution_count": 1,
   "metadata": {
    "collapsed": true
   },
   "outputs": [],
   "source": [
    "# first test for polyphonic music\n",
    "import librosa\n",
    "import numpy as np\n",
    "import os\n",
    "from sporco.admm import cbpdn\n",
    "import sporco.metric as sm\n",
    "import pickle \n",
    "import matplotlib.pyplot as plt\n",
    "%matplotlib inline\n",
    "from scipy.signal import argrelextrema\n",
    "import scipy.io.wavfile\n",
    "import math\n",
    "from copy import deepcopy\n",
    "sr = 11025\n",
    "window_size = 0.050"
   ]
  },
  {
   "cell_type": "code",
   "execution_count": 2,
   "metadata": {
    "collapsed": false
   },
   "outputs": [],
   "source": [
    "# load the dictionary for the individual notes\n",
    "D = []\n",
    "directory = './maps/notes/'\n",
    "\n",
    "for i in range(21,109):\n",
    "    fname1 = 'MAPS_ISOL_NO_F_S0_M' + str(i) + '_SptkBGCl.wav'\n",
    "    fname2 = 'MAPS_ISOL_NO_F_S1_M' + str(i) + '_SptkBGCl.wav'\n",
    "    \n",
    "    try:\n",
    "        s = librosa.load(directory + fname1, sr=11025,offset=0.7,duration=1.0)[0]\n",
    "    except:\n",
    "        s = librosa.load(directory + fname2, sr=11025,offset=0.7,duration=1.0)[0]\n",
    "    # normalize dictionary elements\n",
    "    D.append(s/np.amax(s))\n",
    "    \n",
    "D = np.asarray(D)\n",
    "D = D.T\n",
    "\n",
    "with open('mapsdict.pkl','wb') as fid:\n",
    "     pickle.dump(D,fid)"
   ]
  },
  {
   "cell_type": "code",
   "execution_count": null,
   "metadata": {
    "collapsed": false
   },
   "outputs": [],
   "source": [
    "#solve the CBPDN problem\n",
    "with open('mapsdict.pkl','rb') as fid:\n",
    "    D = pickle.load(fid)\n",
    "print(D.shape)\n",
    "lmbda = 0.005\n",
    "# 1 temporal dimension\n",
    "dimN = 1\n",
    "\n",
    "opt = cbpdn.ConvBPDN.Options({'Verbose' : True, 'MaxMainIter' : 500,\n",
    "                    'HighMemSolve' : True, 'LinSolveCheck' : True,\n",
    "                    'RelStopTol' : 1e-3, 'AuxVarObj' : False})\n",
    "\n",
    "songdir = \"./maps/songs/\"\n",
    "songname = \"MAPS_MUS-alb_esp2_SptkBGCl.wav\"\n",
    "song, sr = librosa.load(songdir+songname,sr=sr)\n",
    "\n",
    "b = cbpdn.ConvBPDN(D, song, lmbda, opt,dimN=dimN)\n",
    "X = b.solve()\n",
    "X = X[:,0,0,:]\n",
    "with open('maps_results_esp2.pkl', 'wb') as fid:\n",
    "    pickle.dump(X, fid)"
   ]
  },
  {
   "cell_type": "code",
   "execution_count": 3,
   "metadata": {
    "collapsed": false
   },
   "outputs": [],
   "source": [
    "# load the GT of the song \n",
    "songdir = \"./maps/songs/\"\n",
    "songname = \"MAPS_MUS-alb_esp2_SptkBGCl.wav\"\n",
    "song, sr = librosa.load(songdir+songname,sr=sr)\n",
    "\n",
    "f = open(songdir + 'MAPS_MUS-alb_esp2_SptkBGCl.txt', 'rb')\n",
    "lines = f.readlines()[1:]\n",
    "GT = {}\n",
    "num_timesets = 0\n",
    "for row in lines:\n",
    "    row = row.decode().strip('\\r\\n')\n",
    "    row = row.split('\\t')\n",
    "    if row[2] in GT:\n",
    "        GT[row[2]].append([row[0], row[1]])\n",
    "    else:\n",
    "        GT[row[2]] = [[row[0], row[1]]]\n",
    "    num_timesets += 1\n"
   ]
  },
  {
   "cell_type": "code",
   "execution_count": 4,
   "metadata": {
    "collapsed": false
   },
   "outputs": [
    {
     "name": "stdout",
     "output_type": "stream",
     "text": [
      "threshold is 0.00183084793389\n"
     ]
    }
   ],
   "source": [
    "# peak detection for each time stamp\n",
    "# find threshold to denoise the peaks \n",
    "with open('maps_results_esp2.pkl','rb') as Y:\n",
    "    Y = pickle.load(Y)\n",
    "    \n",
    "duration = song.shape[0]/sr\n",
    "lmaxes = np.asarray([])\n",
    "for row in Y:\n",
    "    relex = argrelextrema(row,np.greater)[0]\n",
    "    lmaxes = np.concatenate((lmaxes,row[relex]))\n",
    "\n",
    "p75,p25 = np.percentile(lmaxes, [75,25])\n",
    "\n",
    "threshold = p75 + 12*(p75-p25)\n",
    "\n",
    "print('threshold is', threshold)\n",
    "# new array of only below threshold\n",
    "lowvals = Y < threshold\n",
    "Y[lowvals] = 0"
   ]
  },
  {
   "cell_type": "code",
   "execution_count": 5,
   "metadata": {
    "collapsed": false
   },
   "outputs": [],
   "source": [
    "# num notes in the transcription that were correctly detected\n",
    "def correction_pct(relex, t, numtotal, numcorrect):\n",
    "    for note in relex:\n",
    "        note += 21\n",
    "        numtotal += 1\n",
    "        if str(note) in GT:\n",
    "            time_ranges = GT[str(note)]\n",
    "            for time_range in time_ranges:\n",
    "                s = float(time_range[0])\n",
    "                e = float(time_range[1])\n",
    "                if t < s - window_size:\n",
    "                    break\n",
    "                elif t >= s - window_size and t <= e + window_size:\n",
    "                    print(\"in range\")\n",
    "                    numcorrect += 1\n",
    "                    break              \n",
    "    return numcorrect, numtotal"
   ]
  },
  {
   "cell_type": "code",
   "execution_count": 6,
   "metadata": {
    "collapsed": true
   },
   "outputs": [],
   "source": [
    "# num notes in GT that appear in the transcription\n",
    "def GTdetected(relex, t, numpoped, GT_cp):\n",
    "    for note in relex:\n",
    "        note += 21\n",
    "        if str(note) in GT_cp:\n",
    "            time_ranges = deepcopy(GT_cp[str(note)]) \n",
    "            num_timeranges = len(time_ranges)\n",
    "            for i in range(num_timeranges):\n",
    "                s = float(time_ranges[i][0])\n",
    "                e = float(time_ranges[i][1])\n",
    "                if t < s - 0.05:\n",
    "                    break\n",
    "                elif t >= s - 0.05 and t <= e + 0.05:\n",
    "                    # GT detected, remove\n",
    "                    print(len(time_ranges))\n",
    "                    GT_cp[str(note)] = time_ranges.pop(i)\n",
    "                    print(len(GT_cp[str(note)]))\n",
    "                    numpoped += 1\n",
    "                    break\n",
    "    return numpoped, GT_cp"
   ]
  },
  {
   "cell_type": "code",
   "execution_count": 7,
   "metadata": {
    "collapsed": false
   },
   "outputs": [
    {
     "name": "stdout",
     "output_type": "stream",
     "text": [
      "Correct percentage is: 0.8666666666666667\n",
      "Undetected percentage is: 0.9705449189985272\n"
     ]
    }
   ],
   "source": [
    "# vars intialization for parsing the 50ms windows\n",
    "window_size = 0.05\n",
    "start = 0\n",
    "l = int(sr*window_size)\n",
    "end = l\n",
    "window = 0\n",
    "\n",
    "# 2D array that represents onsets\n",
    "onsets = np.zeros((88,int(duration/0.05)))\n",
    "# highest and lowest note (for plotting purposes)\n",
    "highnote = 0\n",
    "lownote = 100\n",
    "total = 0\n",
    "correct = 0\n",
    "poped = 0\n",
    "GT_cpy = deepcopy(GT)\n",
    "\n",
    "for i in range(int(duration/window_size)):\n",
    "    row = Y[start:end,:]\n",
    "    #print(row.shape)\n",
    "    sumrow = np.sum(row,axis=0)\n",
    "    relex = argrelextrema(sumrow,np.greater)[0]\n",
    "    if(len(relex) != 0):\n",
    "        # time index that the note occurs\n",
    "        high = np.amax(relex)\n",
    "        low = np.amin(relex)\n",
    "        if high > highnote:\n",
    "            highnote = high\n",
    "        if low < lownote:\n",
    "            lownote = low\n",
    "        tindex = window\n",
    "        onsets[relex,tindex] = 1\n",
    "        t = window_size * window\n",
    "        for note in relex:\n",
    "            note += 21\n",
    "            total += 1\n",
    "            if str(note) in GT:\n",
    "                time_ranges = GT[str(note)]\n",
    "                for time_range in time_ranges:\n",
    "                    s = float(time_range[0])\n",
    "                    e = float(time_range[1])\n",
    "                    if t < s - window_size:\n",
    "                        break\n",
    "                    elif t >= s - window_size and t <= e + window_size:\n",
    "                        correct += 1\n",
    "                        break\n",
    "        for note in relex:\n",
    "            note += 21\n",
    "            if str(note) in GT_cpy:\n",
    "                time_ranges = deepcopy(GT_cpy[str(note)]) \n",
    "                for i in range(len(time_ranges)):\n",
    "                    s = float(time_ranges[i][0])\n",
    "                    \n",
    "                    e = float(time_ranges[i][1])\n",
    "                    if t < s - window_size:\n",
    "                        break\n",
    "                    elif t >= s - window_size and t <= e + window_size:\n",
    "                        time_ranges.pop(i)\n",
    "                        GT_cpy[str(note)] = time_ranges\n",
    "                        poped += 1\n",
    "                        break\n",
    "    start = end\n",
    "    end += l\n",
    "    window+=1\n",
    "\n",
    "correct_percentage = float(correct) / total\n",
    "print (\"Correct percentage is: \" + str(correct_percentage))\n",
    "\n",
    "undetected_percentage = float(num_timesets - poped) / num_timesets\n",
    "print (\"Undetected percentage is: \" + str(undetected_percentage))"
   ]
  },
  {
   "cell_type": "code",
   "execution_count": 8,
   "metadata": {
    "collapsed": false,
    "scrolled": false
   },
   "outputs": [],
   "source": [
    "# plot ground truth\n",
    "# print(GT)\n",
    "# get the ground truth for the same duration as onsets\n",
    "lasttime = onsets.shape[-1] * window_size\n",
    "gt_plot = np.zeros(onsets.shape)\n",
    "for key in GT:\n",
    "    # MIDI notes are offset by 21\n",
    "    note = int(key) - 21\n",
    "    # val is array of arrays, where val[i] denotes the ith [onset,offset]\n",
    "    val = GT[key]\n",
    "    # for each onset/offset pair\n",
    "    for oopair in val:\n",
    "        start = float(oopair[0])\n",
    "        if start < lasttime:\n",
    "            # round nearest 50ms interval\n",
    "            #print(note)\n",
    "            t_index = math.floor(start/window_size)\n",
    "            gt_plot[note,t_index] = 1"
   ]
  },
  {
   "cell_type": "code",
   "execution_count": 9,
   "metadata": {
    "collapsed": true
   },
   "outputs": [],
   "source": [
    "for i in range(onsets.shape[1]-1):\n",
    "    curr = onsets[:,i]\n",
    "    nxt = onsets[:,i+1]\n",
    "    # take differnce of two frames\n",
    "    chnge = nxt - curr\n",
    "    # where chnge = 0, we want to set next to 0\n",
    "    indices = chnge < 1\n",
    "    onsets[indices,i+1] = 0\n",
    "# change to 2d array\n",
    "x1 = []\n",
    "y1 = []\n",
    "x2 = []\n",
    "y2 = []\n",
    "for i in range(onsets.shape[1]):\n",
    "        col1 = onsets[:,i]\n",
    "        col2 = gt_plot[:,i]\n",
    "        # get indices where note is playing\n",
    "        counter = 0\n",
    "        for c1 in col1:\n",
    "            if c1:\n",
    "                x1.append(i)\n",
    "                y1.append(counter)\n",
    "            counter +=1\n",
    "        counter = 0\n",
    "        for c2 in col2:\n",
    "            if c2:\n",
    "                x2.append(i)\n",
    "                y2.append(counter)\n",
    "            counter+=1"
   ]
  },
  {
   "cell_type": "code",
   "execution_count": 10,
   "metadata": {
    "collapsed": false
   },
   "outputs": [
    {
     "data": {
      "image/png": "[encoded data removed]",
      "text/plain": [
       "<matplotlib.figure.Figure at 0x20a43780198>"
      ]
     },
     "metadata": {},
     "output_type": "display_data"
    }
   ],
   "source": [
    "fig = plt.figure(figsize=(10,10))\n",
    "plt.plot(x1,y1,'bo',alpha=0.5,label = 'transcription')\n",
    "plt.plot(x2,y2,'yo',alpha=0.5,label = 'ground truth')\n",
    "plt.legend(loc = \"upper right\")\n",
    "ax = fig.add_subplot(1,1,1)\n",
    "major_ticks = np.arange(low,high)\n",
    "ax.set_yticks(major_ticks)\n",
    "ax.grid(True)\n",
    "plt.show()"
   ]
  },
  {
   "cell_type": "code",
   "execution_count": 11,
   "metadata": {
    "collapsed": false
   },
   "outputs": [
    {
     "data": {
      "text/plain": [
       "<matplotlib.collections.QuadMesh at 0x20a43ce71d0>"
      ]
     },
     "execution_count": 11,
     "metadata": {},
     "output_type": "execute_result"
    },
    {
     "data": {
      "image/png": "[encoded data removed]",
      "text/plain": [
       "<matplotlib.figure.Figure at 0x20a4378e630>"
      ]
     },
     "metadata": {},
     "output_type": "display_data"
    }
   ],
   "source": [
    "plt.pcolormesh(gt_plot)"
   ]
  },
  {
   "cell_type": "code",
   "execution_count": null,
   "metadata": {
    "collapsed": true
   },
   "outputs": [],
   "source": []
  }
 ],
 "metadata": {
  "kernelspec": {
   "display_name": "Python 3",
   "language": "python",
   "name": "python3"
  },
  "language_info": {
   "codemirror_mode": {
    "name": "ipython",
    "version": 3
   },
   "file_extension": ".py",
   "mimetype": "text/x-python",
   "name": "python",
   "nbconvert_exporter": "python",
   "pygments_lexer": "ipython3",
   "version": "3.5.2"
  }
 },
 "nbformat": 4,
 "nbformat_minor": 2
}
